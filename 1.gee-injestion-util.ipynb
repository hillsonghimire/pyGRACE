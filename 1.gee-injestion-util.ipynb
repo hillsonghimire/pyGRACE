{
  "cells": [
    {
      "cell_type": "markdown",
      "metadata": {},
      "source": [
        "<a href=\"https://colab.research.google.com/github/hillsonghimire/pyGroundWaterLoss_GRACE-FO/blob/main/gee-injestion-util.ipynb\" target=\"_parent\"><img src=\"https://colab.research.google.com/assets/colab-badge.svg\" alt=\"Open In Colab\"/></a>"
      ]
    },
    {
      "cell_type": "code",
      "execution_count": null,
      "metadata": {
        "id": "Yy9Suwf9v7Ak"
      },
      "outputs": [],
      "source": [
        "'''\n",
        "GRACE Util version 1.0 (Feb 2024)\n",
        "GRACE/GRACE-FO CSR data conversion and Earth Engine data injestion pipeline\n",
        "2024: Hillson Ghimire\n",
        "\n",
        "Revisions:\n",
        "\n",
        "'''"
      ]
    },
    {
      "cell_type": "markdown",
      "metadata": {
        "id": "M4QrTAUzX0c9"
      },
      "source": [
        "### Install and import necessary libraries. Initialize Earth Engine"
      ]
    },
    {
      "cell_type": "code",
      "execution_count": 2,
      "metadata": {
        "colab": {
          "base_uri": "https://localhost:8080/",
          "height": 34
        },
        "id": "R4I2aKn8VIoc",
        "outputId": "f16a9caa-a89f-41c5-a97d-550159279cf6"
      },
      "outputs": [
        {
          "name": "stdout",
          "output_type": "stream",
          "text": [
            "Mounted at /content/drive\n"
          ]
        }
      ],
      "source": [
        "!pip install \"xarray[complete]\" &> /dev/null\n",
        "# !pip install rasterio &> /dev/null\n",
        "# !pip install netcdf4 &> /dev/null\n",
        "\n",
        "!pip install pycrs &> /dev/null\n",
        "# !pip install geemap &> /dev/null\n",
        "!pip install cftime &> /dev/null\n",
        "!pip install rioxarray &> /dev/null\n",
        "\n",
        "import ee\n",
        "import os\n",
        "import json\n",
        "import cftime\n",
        "import geemap\n",
        "import datetime\n",
        "import numpy as np\n",
        "import pandas as pd\n",
        "import xarray as xr\n",
        "import rioxarray as rio\n",
        "from datetime import datetime\n",
        "import matplotlib.pyplot as plt\n",
        "\n",
        "from google.colab import drive\n",
        "drive.mount('/content/drive')\n",
        "\n",
        "ee.Authenticate()\n",
        "ee.Initialize(project= 'gee-ait')"
      ]
    },
    {
      "cell_type": "markdown",
      "metadata": {
        "id": "JIqBXWbRol5Y"
      },
      "source": [
        "### Module to download GRACE/GRACE-FO(in netcdf) format and export as geotiff"
      ]
    },
    {
      "cell_type": "code",
      "execution_count": 3,
      "metadata": {
        "colab": {
          "base_uri": "https://localhost:8080/",
          "height": 17
        },
        "id": "IS68tYOQHqzn",
        "outputId": "eaf03dee-8411-4ffe-f2d6-96b6c8fdbc76"
      },
      "outputs": [
        {
          "data": {
            "text/html": [
              "\n",
              "            <style>\n",
              "                .geemap-dark {\n",
              "                    --jp-widgets-color: white;\n",
              "                    --jp-widgets-label-color: white;\n",
              "                    --jp-ui-font-color1: white;\n",
              "                    --jp-layout-color2: #454545;\n",
              "                    background-color: #383838;\n",
              "                }\n",
              "                    \n",
              "                .geemap-dark .jupyter-button {\n",
              "                    --jp-layout-color3: #383838;\n",
              "                }\n",
              "                \n",
              "                .geemap-colab {\n",
              "                    background-color: var(--colab-primary-surface-color, white);\n",
              "                }\n",
              "                    \n",
              "                .geemap-colab .jupyter-button {\n",
              "                    --jp-layout-color3: var(--colab-primary-surface-color, white);\n",
              "                }\n",
              "            </style>\n",
              "            "
            ],
            "text/plain": [
              "<IPython.core.display.HTML object>"
            ]
          },
          "metadata": {},
          "output_type": "display_data"
        }
      ],
      "source": [
        "!mkdir GRACE\n",
        "!mkdir GRACE_CSV"
      ]
    },
    {
      "cell_type": "code",
      "execution_count": 4,
      "metadata": {
        "colab": {
          "base_uri": "https://localhost:8080/",
          "height": 17
        },
        "id": "hL2OlI9gtzpH",
        "outputId": "7b8c5028-aed8-4969-f9ca-e39a3a33cd79"
      },
      "outputs": [
        {
          "data": {
            "text/html": [
              "\n",
              "            <style>\n",
              "                .geemap-dark {\n",
              "                    --jp-widgets-color: white;\n",
              "                    --jp-widgets-label-color: white;\n",
              "                    --jp-ui-font-color1: white;\n",
              "                    --jp-layout-color2: #454545;\n",
              "                    background-color: #383838;\n",
              "                }\n",
              "                    \n",
              "                .geemap-dark .jupyter-button {\n",
              "                    --jp-layout-color3: #383838;\n",
              "                }\n",
              "                \n",
              "                .geemap-colab {\n",
              "                    background-color: var(--colab-primary-surface-color, white);\n",
              "                }\n",
              "                    \n",
              "                .geemap-colab .jupyter-button {\n",
              "                    --jp-layout-color3: var(--colab-primary-surface-color, white);\n",
              "                }\n",
              "            </style>\n",
              "            "
            ],
            "text/plain": [
              "<IPython.core.display.HTML object>"
            ]
          },
          "metadata": {},
          "output_type": "display_data"
        }
      ],
      "source": [
        "## Uncomment to download data\n",
        "# ! wget http://download.csr.utexas.edu/outgoing/grace/RL0602_mascons/CSR_GRACE_GRACE-FO_RL0602_Mascons_all-corrections.nc"
      ]
    },
    {
      "cell_type": "markdown",
      "metadata": {
        "id": "hBFawt2cX4lq"
      },
      "source": [
        "#### Export CSV files with time properties of whole GRACE/GRACE-FO collections"
      ]
    },
    {
      "cell_type": "code",
      "execution_count": 5,
      "metadata": {
        "colab": {
          "base_uri": "https://localhost:8080/",
          "height": 17
        },
        "id": "bH1mY51l__lP",
        "outputId": "766bbf7d-6c14-4f38-c644-6ea6ea390a15"
      },
      "outputs": [
        {
          "data": {
            "text/html": [
              "\n",
              "            <style>\n",
              "                .geemap-dark {\n",
              "                    --jp-widgets-color: white;\n",
              "                    --jp-widgets-label-color: white;\n",
              "                    --jp-ui-font-color1: white;\n",
              "                    --jp-layout-color2: #454545;\n",
              "                    background-color: #383838;\n",
              "                }\n",
              "                    \n",
              "                .geemap-dark .jupyter-button {\n",
              "                    --jp-layout-color3: #383838;\n",
              "                }\n",
              "                \n",
              "                .geemap-colab {\n",
              "                    background-color: var(--colab-primary-surface-color, white);\n",
              "                }\n",
              "                    \n",
              "                .geemap-colab .jupyter-button {\n",
              "                    --jp-layout-color3: var(--colab-primary-surface-color, white);\n",
              "                }\n",
              "            </style>\n",
              "            "
            ],
            "text/plain": [
              "<IPython.core.display.HTML object>"
            ]
          },
          "metadata": {},
          "output_type": "display_data"
        }
      ],
      "source": [
        "path = '/content/drive/MyDrive/Colab Notebooks/FAO Analysis/data/CSR_GRACE_GRACE-FO_RL0602_Mascons_all-corrections.nc'\n",
        "ds = xr.open_dataset(path)\n",
        "\n",
        "# Get the time and time_blunds variables and units\n",
        "time = ds['time']\n",
        "# print(time)\n",
        "# Define a start date as July 2, 2014\n",
        "timeDelta = datetime(2002, 1, 1, 0, 0, 0) - datetime(1970, 1, 1, 0, 0, 0)\n",
        "first_day_ms = timeDelta.total_seconds()*1000\n",
        "\n",
        "time_units = time.attrs['Units']\n",
        "time_bound = ds['time_bounds']\n",
        "time_bound_ar = time_bound.values\n",
        "\n",
        "# the data is in format [[start, end], [start, end]....]\n",
        "# first extract list as [start, start ...] and [end, end ...]\n",
        "# and then convert the list back to xarray.DataArray type\n",
        "time_bound_pre = time_bound_ar[:, :1]\n",
        "time_bound_pre = xr.DataArray([float(sublist[0]) for sublist in time_bound_pre])\n",
        "\n",
        "time_bound_post = time_bound_ar[:, 1:]\n",
        "time_bound_post = xr.DataArray([float(sublist[0]) for sublist in time_bound_post])\n",
        "\n",
        "# Decode time values into human-readable format\n",
        "def timeToMs(t, time_units = time_units):\n",
        "  datetime_ms = [int(first_day_ms+days*86400000)  for days in t.values]\n",
        "  return datetime_ms\n",
        "\n",
        "# Time conversion step\n",
        "time                 = timeToMs(time)\n",
        "time_bound_pre       = timeToMs(time_bound_pre)\n",
        "time_bound_post      = [(excludeLastDay-86400000) for excludeLastDay in timeToMs(time_bound_post)]\n",
        "time_bound_pre_date  = [(datetime.utcfromtimestamp(x / 1000)).strftime('%Y-%m-%d').replace('-', '') for x in time_bound_pre]\n",
        "time_bound_post_date = [(datetime.utcfromtimestamp(x / 1000)).strftime('%Y-%m-%d').replace('-', '') for x in time_bound_post]\n",
        "# get the final list of time, time_bound_pre, and time_bound_post\n",
        "time_time_bounds = list(zip(time, time_bound_pre, time_bound_pre_date, time_bound_post, time_bound_post_date))\n",
        "time_time_bounds = pd.DataFrame.from_records(time_time_bounds, columns =['time', 'time_beginning_ms', 'time_beginning_YMD', 'time_end_ms', 'time_end_YMD'])\n",
        "time_time_bounds[\"id\"] = time_time_bounds.index + 1\n",
        "\n",
        "# Export id to csv\n",
        "time_time_bounds.to_csv('/content/GRACE_CSV/id_info.csv', index=False)"
      ]
    },
    {
      "cell_type": "markdown",
      "metadata": {
        "id": "L4gectjYX72y"
      },
      "source": [
        "#### Export masked geotiff, the masking is done utilizing the landmask layer provided by CSR"
      ]
    },
    {
      "cell_type": "code",
      "execution_count": 6,
      "metadata": {
        "colab": {
          "base_uri": "https://localhost:8080/",
          "height": 17
        },
        "id": "9Q3keSy4EREY",
        "outputId": "0b2c3a34-4dd4-4bbb-e52d-367e2599c0c7"
      },
      "outputs": [
        {
          "data": {
            "text/html": [
              "\n",
              "            <style>\n",
              "                .geemap-dark {\n",
              "                    --jp-widgets-color: white;\n",
              "                    --jp-widgets-label-color: white;\n",
              "                    --jp-ui-font-color1: white;\n",
              "                    --jp-layout-color2: #454545;\n",
              "                    background-color: #383838;\n",
              "                }\n",
              "                    \n",
              "                .geemap-dark .jupyter-button {\n",
              "                    --jp-layout-color3: #383838;\n",
              "                }\n",
              "                \n",
              "                .geemap-colab {\n",
              "                    background-color: var(--colab-primary-surface-color, white);\n",
              "                }\n",
              "                    \n",
              "                .geemap-colab .jupyter-button {\n",
              "                    --jp-layout-color3: var(--colab-primary-surface-color, white);\n",
              "                }\n",
              "            </style>\n",
              "            "
            ],
            "text/plain": [
              "<IPython.core.display.HTML object>"
            ]
          },
          "metadata": {},
          "output_type": "display_data"
        }
      ],
      "source": [
        "# Open the GRACE_GRACE-FO_Mascon dataset\n",
        "path = '/content/drive/MyDrive/Colab Notebooks/FAO Analysis/data/CSR_GRACE_GRACE-FO_RL0602_Mascons_all-corrections.nc'\n",
        "ds = xr.open_dataset(path)\n",
        "\n",
        "# Extract latitude, longitude, and time dimensions\n",
        "lat = ds['lat'].values\n",
        "lon = ds['lon'].values\n",
        "time = ds['time'].values\n",
        "# Get dimensions\n",
        "height, width = len(lat), len(lon)\n",
        "\n",
        "def _coordAssign(xrData):\n",
        "  # convert longitude from (0-360) to (-180 to 180) (if required)\n",
        "  xrData['lon'] = (xrData['lon'] + 180) % 360 - 180\n",
        "  xrData = xrData.sortby(xrData.lon)\n",
        "  xrData = xrData.rio.set_spatial_dims('lon', 'lat')\n",
        "  xrData.rio.set_crs(\"epsg:4326\")                                 ## print(data.rio.crs) #if CRS isn't discovered or None, add CRS using data.rio.set_crs(<YOUR EPSG>)\n",
        "  return xrData\n",
        "\n",
        "# Land mask layer\n",
        "mask = True\n",
        "nodata_value = np.nan\n",
        "if mask==True:\n",
        "  path_mask = '/content/drive/MyDrive/Colab Notebooks/FAO Analysis/data/CSR_GRACE_GRACE-FO_RL06_Mascons_v02_LandMask.nc'\n",
        "  ds_mask = xr.open_dataset(path_mask)\n",
        "  ds_mask1 = xr.where(ds_mask == 0, nodata_value, ds_mask)\n",
        "  ds_mask2 = _coordAssign(ds_mask1)                                ## Assign Coordinates\n",
        "  # <DATA-NAME>.rio.to_raster(f\"/content/LANDMASK/landmask.tif\")   ## To export mask as geotiff\n",
        "\n",
        "# To mask out ocean\n",
        "def maskFunc(toClip, ds_mask = ds_mask):\n",
        "  return xr.where(ds_mask==1, toClip, float('nan'))\n",
        "\n",
        "# Iterate over each time step\n",
        "for i, t in enumerate(time):\n",
        "  # Extract data for the current time step\n",
        "  data = ds['lwe_thickness'][i]\n",
        "\n",
        "  if mask == True:\n",
        "    data = maskFunc(data)\n",
        "  data = _coordAssign(data)                                        ## Assign Coordinates\n",
        "\n",
        "  # Construct the output file name\n",
        "  pre_date = time_time_bounds['time_beginning_YMD'][i]\n",
        "  post_date = time_time_bounds['time_end_YMD'][i]\n",
        "  output_filename = f\"/content/GRACE/{pre_date}_{post_date}.tif\"   ## Can adjust name format\n",
        "  data.rio.to_raster(output_filename)\n",
        "\n",
        "# Zip the data folder\n",
        "!zip -r GRACE.zip /content/GRACE/*.tif >> /dev/null"
      ]
    },
    {
      "cell_type": "markdown",
      "metadata": {
        "id": "7jZ7Ve_aQUvc"
      },
      "source": [
        "### Generate manifest.json file to injest the data to earth engine\n"
      ]
    },
    {
      "cell_type": "code",
      "execution_count": null,
      "metadata": {},
      "outputs": [],
      "source": [
        "!mkdir json"
      ]
    },
    {
      "cell_type": "code",
      "execution_count": null,
      "metadata": {
        "id": "Px8aQ43vX24j"
      },
      "outputs": [],
      "source": [
        "# setup paths and environment\n",
        "output_path = '/content/json/'\n",
        "cloud_path = 'gs://gee-ingest-fao/GRACE'\n",
        "gee_asset_path = 'projects/gee-ait/assets/GRACE/MASS_GRIDS/LAND'\n",
        "manifest_dir = output_path\n",
        "\n",
        "# list all the image data, the manifest will be based on image properties\n",
        "lst = os.listdir('/content/GRACE/')\n",
        "\n",
        "#----------------------------------------------------------------------\n",
        "\n",
        "# manifest generator\n",
        "for i, image in enumerate(lst):\n",
        "  tileset_id = str(time_time_bounds['time_beginning_YMD'][i])+'_'+str(time_time_bounds['time_end_YMD'][i])\n",
        "  manifest_name = '{}/{}'.format(gee_asset_path, tileset_id)\n",
        "\n",
        "  manifest_tilesets = []\n",
        "  manifest_bands = []\n",
        "  # print(manifest_name)\n",
        "\n",
        "  _tileset = {\n",
        "      'id': tileset_id,\n",
        "      'sources': [\n",
        "          {\n",
        "              'uris': [\n",
        "                  '{}/{}'.format(cloud_path, image)\n",
        "              ]\n",
        "          }\n",
        "      ]\n",
        "  }\n",
        "\n",
        "  _band = {\n",
        "    'id': \"lwe_thickness_csr\",\n",
        "    'tileset_id': tileset_id\n",
        "  }\n",
        "\n",
        "  manifest_tilesets.append(_tileset)\n",
        "  manifest_bands.append(_band)\n",
        "\n",
        "  ## properties\n",
        "  manifest_properties = {}\n",
        "  manifest_properties['CSR_START_TIME'] = int(time_time_bounds['time_beginning_ms'][i])\n",
        "  manifest_properties['CSR_end_TIME'] = int(time_time_bounds['time_end_ms'][i])\n",
        "  # start_index = 3\n",
        "  # for _property in properties:\n",
        "  #     manifest_properties[_property] = image[start_index]\n",
        "  #     start_index += 1\n",
        "\n",
        "  # start time\n",
        "  manifest_start_time = {\n",
        "      'seconds': int(time_time_bounds['time_beginning_ms'][i]/1000)\n",
        "  }\n",
        "\n",
        "  # end time\n",
        "  manifest_end_time = {\n",
        "      'seconds': int(time_time_bounds['time_end_ms'][i]/1000)\n",
        "  }\n",
        "\n",
        "  final_manifest = {\n",
        "    'name': manifest_name,\n",
        "    'tilesets': manifest_tilesets,\n",
        "    'bands': manifest_bands,\n",
        "    'start_time': manifest_start_time,\n",
        "    'end_time': manifest_end_time,\n",
        "    'properties': manifest_properties\n",
        "  }\n",
        "  # print(final_manifest)\n",
        "  with open('{}{}.json'.format(manifest_dir, tileset_id), 'w') as manifest_file:\n",
        "    json_string = json.dumps(final_manifest, ensure_ascii=False, indent=4)\n",
        "    manifest_file.write(json_string)\n",
        "\n",
        "!zip -r jsonGrace.zip /content/json/*.json >> /dev/null"
      ]
    }
  ],
  "metadata": {
    "colab": {
      "provenance": []
    },
    "kernelspec": {
      "display_name": "Python 3",
      "name": "python3"
    },
    "language_info": {
      "name": "python"
    }
  },
  "nbformat": 4,
  "nbformat_minor": 0
}
