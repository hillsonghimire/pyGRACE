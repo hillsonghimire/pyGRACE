{
 "cells": [
  {
   "cell_type": "code",
   "execution_count": 13,
   "id": "39581e1d-8f55-4770-ac99-52b313abcf1f",
   "metadata": {},
   "outputs": [],
   "source": [
    "# note before this the image data are already uploaded to google cloud storage bucket.\n",
    "\n",
    "import json\n",
    "import os\n",
    "from pprint import pprint\n",
    "\n",
    "import ee\n",
    "from google.auth.transport.requests import AuthorizedSession\n",
    "\n",
    "ee.Authenticate()  #  or !earthengine authenticate --auth_mode=gcloud\n",
    "ee_project = 'gee-ait'\n",
    "\n",
    "session = AuthorizedSession(\n",
    "    ee.data.get_persistent_credentials().with_quota_project(ee_project)\n",
    ")\n",
    "\n",
    "# ee.Initialize(project='gee-ait')"
   ]
  },
  {
   "cell_type": "code",
   "execution_count": 11,
   "id": "074137dc-af38-4997-a805-e4e47f62ff78",
   "metadata": {},
   "outputs": [],
   "source": [
    "# Request body as a dictionary.\n",
    "from google.cloud import storage"
   ]
  },
  {
   "cell_type": "code",
   "execution_count": null,
   "id": "e5f53252-804e-4a22-b6c9-826155920ff8",
   "metadata": {},
   "outputs": [],
   "source": [
    "# Set the paths\n",
    "json_folder_path = '/content/json/'   # local json_folder_paths to manifest files\n",
    "gcs_bucket_name = 'gee-ingest-fao'\n",
    "\n",
    "# Initialize the Google Cloud Storage client\n",
    "storage_client = storage.Client()\n",
    "\n",
    "def ingest_manifest(manifest):\n",
    "    task_id = ee.data.newTaskId()[0]\n",
    "    task = ee.data.startIngestion(task_id, manifest)\n",
    "    print(f\"Ingestion task started for {manifest['name']} with ID: {task_id}\")\n",
    "\n",
    "# List all JSON files in the directory\n",
    "json_files = [f for f in os.listdir(json_folder_path) if f.endswith('.json')]\n",
    "\n",
    "for json_file in json_files:\n",
    "    json_path = os.path.join(json_folder_path, json_file)\n",
    "    with open(json_path, 'r') as file:\n",
    "        manifest = json.load(file)\n",
    "\n",
    "    # Ingest the data into GEE\n",
    "    ingest_manifest(manifest)"
   ]
  }
 ],
 "metadata": {
  "kernelspec": {
   "display_name": "Python 3 (ipykernel)",
   "language": "python",
   "name": "python3"
  },
  "language_info": {
   "codemirror_mode": {
    "name": "ipython",
    "version": 3
   },
   "file_extension": ".py",
   "mimetype": "text/x-python",
   "name": "python",
   "nbconvert_exporter": "python",
   "pygments_lexer": "ipython3",
   "version": "3.12.1"
  }
 },
 "nbformat": 4,
 "nbformat_minor": 5
}
